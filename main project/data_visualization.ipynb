{
 "cells": [
  {
   "cell_type": "code",
   "execution_count": null,
   "metadata": {},
   "outputs": [],
   "source": [
    "import xml.etree.ElementTree as ET\n",
    "import pandas as pd\n",
    "import matplotlib.pyplot as plt\n",
    "import numpy as np"
   ]
  },
  {
   "cell_type": "code",
   "execution_count": null,
   "metadata": {},
   "outputs": [],
   "source": [
    "# Load and parse the XML file\n",
    "tree = ET.parse('queueinfo.xml')\n",
    "root = tree.getroot()"
   ]
  },
  {
   "cell_type": "code",
   "execution_count": null,
   "metadata": {},
   "outputs": [],
   "source": [
    "# Extract data from XML\n",
    "data = []\n",
    "for timestep in root.findall('data'):\n",
    "    step = float(timestep.get('timestep'))\n",
    "    for lane in timestep.find('lanes').findall('lane'):\n",
    "        lane_id = lane.get('id')\n",
    "        queueing_length = float(lane.get('queueing_length'))\n",
    "        queueing_time = float(lane.get('queueing_time'))\n",
    "        data.append((step, lane_id, queueing_length, queueing_time))\n",
    "\n",
    "data"
   ]
  },
  {
   "cell_type": "code",
   "execution_count": null,
   "metadata": {},
   "outputs": [],
   "source": [
    "# Create a DataFrame\n",
    "df = pd.DataFrame(data, columns=['step', 'lane_id', 'queueing_length', 'queueing_time'])\n",
    "df"
   ]
  },
  {
   "cell_type": "code",
   "execution_count": null,
   "metadata": {},
   "outputs": [],
   "source": [
    "# 전처리 : lane_id 가 c로 시작하는 행 제거\n",
    "df = df[~df['lane_id'].str.startswith('c')]\n",
    "df"
   ]
  },
  {
   "cell_type": "code",
   "execution_count": null,
   "metadata": {},
   "outputs": [],
   "source": [
    "# lane_id 가 1c_0, 1c_1, 1c_2, 1c_3, 1c_4 인 행을 1c 로 통일. 이때, 같은 time의 queueing_length 는 해당 time의 각 lane_id 의 queueing_length 의 평균으로 대체\n",
    "df['lane_id'] = df['lane_id'].apply(lambda x: x.split('_')[0])\n",
    "df = df.groupby(['step', 'lane_id']).mean().reset_index()\n",
    "df"
   ]
  },
  {
   "cell_type": "code",
   "execution_count": null,
   "metadata": {},
   "outputs": [],
   "source": [
    "# Plot the data\n",
    "lanes = df['lane_id'].unique()\n",
    "fig, ax = plt.subplots()\n",
    "\n",
    "for lane in lanes:\n",
    "    lane_data = df[df['lane_id'] == lane]\n",
    "    ax.plot(lane_data['step'], lane_data['queueing_length'], label=lane)\n",
    "\n",
    "ax.set_xlabel('Step (s)')\n",
    "ax.set_ylabel('Queueing Length (m)')\n",
    "ax.legend(title='Lane ID')\n",
    "plt.title('Queueing Length Over Step by Lane')\n",
    "plt.show()"
   ]
  },
  {
   "cell_type": "code",
   "execution_count": null,
   "metadata": {},
   "outputs": [],
   "source": [
    "# lane_id별로 plot 4개의 subplot 으로 나누어 그리기 + 5차 회귀선 추가\n",
    "fig, axs = plt.subplots(2, 2, figsize=(10, 10))\n",
    "for i, lane in enumerate(lanes):\n",
    "    lane_data = df[df['lane_id'] == lane]\n",
    "    ax = axs[i//2, i%2]\n",
    "    ax.plot(lane_data['step'], lane_data['queueing_length'], label=lane)\n",
    "    z = np.polyfit(lane_data['step'], lane_data['queueing_length'], 5)\n",
    "    p = np.poly1d(z)\n",
    "    ax.plot(lane_data['step'], p(lane_data['step']), 'r--', label='5th degree polynomial')\n",
    "    ax.set_xlabel('Step (s)')\n",
    "    ax.set_ylabel('Queueing Length (m)')\n",
    "    ax.legend(title='Lane ID')\n",
    "    ax.set_title(f'Queueing Length Over Step by Lane {lane}')\n",
    "plt.show()"
   ]
  },
  {
   "cell_type": "code",
   "execution_count": null,
   "metadata": {},
   "outputs": [],
   "source": []
  }
 ],
 "metadata": {
  "kernelspec": {
   "display_name": "base",
   "language": "python",
   "name": "python3"
  },
  "language_info": {
   "codemirror_mode": {
    "name": "ipython",
    "version": 3
   },
   "file_extension": ".py",
   "mimetype": "text/x-python",
   "name": "python",
   "nbconvert_exporter": "python",
   "pygments_lexer": "ipython3",
   "version": "3.11.5"
  }
 },
 "nbformat": 4,
 "nbformat_minor": 2
}
