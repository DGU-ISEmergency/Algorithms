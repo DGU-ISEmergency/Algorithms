{
 "cells": [
  {
   "cell_type": "code",
   "execution_count": 5,
   "metadata": {},
   "outputs": [],
   "source": [
    "# my_data.csv 파일 불러오기\n",
    "import pandas as pd\n",
    "import matplotlib.pyplot as plt\n",
    "plt.rcParams['font.family'] ='Malgun Gothic'\n",
    "plt.rcParams['axes.unicode_minus']=False\n",
    "\n",
    "df1 = pd.read_csv('my_data_1.csv')"
   ]
  },
  {
   "cell_type": "code",
   "execution_count": 6,
   "metadata": {},
   "outputs": [],
   "source": [
    "# step이 100부터 350까지인 데이터만 추출하기\n",
    "df1 = df1[(df1['step'] >= 100) & (df1['step'] <= 350)]\n",
    "df1 = df1[~df1['lane_id'].str.startswith('c')]\n",
    "\n",
    "# df1에서 lane_id가 \":c\"로 시작하는 행 제거\n",
    "df1 = df1[~df1['lane_id'].str.startswith(':c')]"
   ]
  },
  {
   "cell_type": "code",
   "execution_count": 7,
   "metadata": {},
   "outputs": [
    {
     "name": "stdout",
     "output_type": "stream",
     "text": [
      "  lane_id  queueing_length  queueing_time\n",
      "0      1c        52.656843      48.569668\n",
      "1      2c       238.994533      58.434530\n",
      "2      3c       263.888341      51.565127\n",
      "3      4c       296.344873      55.388144\n"
     ]
    }
   ],
   "source": [
    "# Grouping by lane_id and calculating the mean of queueing_length and queueing_time\n",
    "df1 = df1.groupby('lane_id')[['queueing_length', 'queueing_time']].mean().reset_index()\n",
    "\n",
    "print(df1)"
   ]
  },
  {
   "cell_type": "code",
   "execution_count": 8,
   "metadata": {},
   "outputs": [],
   "source": [
    "# my_data.csv 파일 불러오기\n",
    "\n",
    "df2 = pd.read_csv('my_data_2.csv')"
   ]
  },
  {
   "cell_type": "code",
   "execution_count": 9,
   "metadata": {},
   "outputs": [],
   "source": [
    "# step이 100부터 350까지인 데이터만 추출하기\n",
    "df2 = df2[(df2['step'] >= 100) & (df2['step'] <= 350)]\n",
    "df2 = df2[~df2['lane_id'].str.startswith('c')]\n",
    "\n",
    "# df2에서 lane_id가 \":c\"로 시작하는 행 제거\n",
    "df2 = df2[~df2['lane_id'].str.startswith(':c')]"
   ]
  },
  {
   "cell_type": "code",
   "execution_count": 10,
   "metadata": {},
   "outputs": [
    {
     "name": "stdout",
     "output_type": "stream",
     "text": [
      "  lane_id  queueing_length  queueing_time\n",
      "0      1c        40.302666      34.334748\n",
      "1      2c       178.013833      41.482521\n",
      "2      3c       254.631705      50.968512\n",
      "3      4c       288.097137      50.878275\n"
     ]
    }
   ],
   "source": [
    "# Grouping by lane_id and calculating the mean of queueing_length and queueing_time\n",
    "df2 = df2.groupby('lane_id')[['queueing_length', 'queueing_time']].mean().reset_index()\n",
    "\n",
    "print(df2)\n",
    "\n",
    "# 전처리 : lane_id 가 c로 시작하는 행 제거\n"
   ]
  },
  {
   "cell_type": "code",
   "execution_count": 11,
   "metadata": {},
   "outputs": [
    {
     "data": {
      "text/html": [
       "<div>\n",
       "<style scoped>\n",
       "    .dataframe tbody tr th:only-of-type {\n",
       "        vertical-align: middle;\n",
       "    }\n",
       "\n",
       "    .dataframe tbody tr th {\n",
       "        vertical-align: top;\n",
       "    }\n",
       "\n",
       "    .dataframe thead th {\n",
       "        text-align: right;\n",
       "    }\n",
       "</style>\n",
       "<table border=\"1\" class=\"dataframe\">\n",
       "  <thead>\n",
       "    <tr style=\"text-align: right;\">\n",
       "      <th></th>\n",
       "      <th>lane_id</th>\n",
       "      <th>queueing_length</th>\n",
       "      <th>queueing_time</th>\n",
       "    </tr>\n",
       "  </thead>\n",
       "  <tbody>\n",
       "    <tr>\n",
       "      <th>0</th>\n",
       "      <td>부도로(강남세브란스병원방면)</td>\n",
       "      <td>52.656843</td>\n",
       "      <td>48.569668</td>\n",
       "    </tr>\n",
       "    <tr>\n",
       "      <th>1</th>\n",
       "      <td>부도로(봉은사로방면)</td>\n",
       "      <td>238.994533</td>\n",
       "      <td>58.434530</td>\n",
       "    </tr>\n",
       "    <tr>\n",
       "      <th>2</th>\n",
       "      <td>주도로(선릉역방면)</td>\n",
       "      <td>263.888341</td>\n",
       "      <td>51.565127</td>\n",
       "    </tr>\n",
       "    <tr>\n",
       "      <th>3</th>\n",
       "      <td>주도로(역삼역방면)</td>\n",
       "      <td>296.344873</td>\n",
       "      <td>55.388144</td>\n",
       "    </tr>\n",
       "  </tbody>\n",
       "</table>\n",
       "</div>"
      ],
      "text/plain": [
       "           lane_id  queueing_length  queueing_time\n",
       "0  부도로(강남세브란스병원방면)        52.656843      48.569668\n",
       "1      부도로(봉은사로방면)       238.994533      58.434530\n",
       "2       주도로(선릉역방면)       263.888341      51.565127\n",
       "3       주도로(역삼역방면)       296.344873      55.388144"
      ]
     },
     "execution_count": 11,
     "metadata": {},
     "output_type": "execute_result"
    }
   ],
   "source": [
    "# df1과 df2의 lane_id 열의 [1c, 2c, 3c, 4c]를 각각 [부도로(강남세브란스병원방면), 부도로(봉은사로방면), 주도로(선릉역방면), 주도로(역삼역방면)] 으로 변경\n",
    "df1['lane_id'] = df1['lane_id'].replace({'1c':'부도로(강남세브란스병원방면)', '2c':'부도로(봉은사로방면)', '3c':'주도로(선릉역방면)', '4c':'주도로(역삼역방면)'})\n",
    "df2['lane_id'] = df2['lane_id'].replace({'1c':'부도로(강남세브란스병원방면)', '2c':'부도로(봉은사로방면)', '3c':'주도로(선릉역방면)', '4c':'주도로(역삼역방면)'})\n",
    "df1\n"
   ]
  },
  {
   "cell_type": "code",
   "execution_count": 12,
   "metadata": {},
   "outputs": [
    {
     "data": {
      "text/html": [
       "<div>\n",
       "<style scoped>\n",
       "    .dataframe tbody tr th:only-of-type {\n",
       "        vertical-align: middle;\n",
       "    }\n",
       "\n",
       "    .dataframe tbody tr th {\n",
       "        vertical-align: top;\n",
       "    }\n",
       "\n",
       "    .dataframe thead th {\n",
       "        text-align: right;\n",
       "    }\n",
       "</style>\n",
       "<table border=\"1\" class=\"dataframe\">\n",
       "  <thead>\n",
       "    <tr style=\"text-align: right;\">\n",
       "      <th></th>\n",
       "      <th>lane_id</th>\n",
       "      <th>queueing_length</th>\n",
       "      <th>queueing_time</th>\n",
       "    </tr>\n",
       "  </thead>\n",
       "  <tbody>\n",
       "    <tr>\n",
       "      <th>0</th>\n",
       "      <td>부도로(강남세브란스병원방면)</td>\n",
       "      <td>40.302666</td>\n",
       "      <td>34.334748</td>\n",
       "    </tr>\n",
       "    <tr>\n",
       "      <th>1</th>\n",
       "      <td>부도로(봉은사로방면)</td>\n",
       "      <td>178.013833</td>\n",
       "      <td>41.482521</td>\n",
       "    </tr>\n",
       "    <tr>\n",
       "      <th>2</th>\n",
       "      <td>주도로(선릉역방면)</td>\n",
       "      <td>254.631705</td>\n",
       "      <td>50.968512</td>\n",
       "    </tr>\n",
       "    <tr>\n",
       "      <th>3</th>\n",
       "      <td>주도로(역삼역방면)</td>\n",
       "      <td>288.097137</td>\n",
       "      <td>50.878275</td>\n",
       "    </tr>\n",
       "  </tbody>\n",
       "</table>\n",
       "</div>"
      ],
      "text/plain": [
       "           lane_id  queueing_length  queueing_time\n",
       "0  부도로(강남세브란스병원방면)        40.302666      34.334748\n",
       "1      부도로(봉은사로방면)       178.013833      41.482521\n",
       "2       주도로(선릉역방면)       254.631705      50.968512\n",
       "3       주도로(역삼역방면)       288.097137      50.878275"
      ]
     },
     "execution_count": 12,
     "metadata": {},
     "output_type": "execute_result"
    }
   ],
   "source": [
    "df2"
   ]
  },
  {
   "cell_type": "code",
   "execution_count": 13,
   "metadata": {},
   "outputs": [
    {
     "name": "stdout",
     "output_type": "stream",
     "text": [
      "           lane_id  queueing_length  queueing_time\n",
      "2       주도로(선릉역방면)       263.888341      51.565127\n",
      "3       주도로(역삼역방면)       296.344873      55.388144\n",
      "4  부도로(강남세브란스병원방면)        52.656843      48.569668\n",
      "5      부도로(봉은사로방면)       238.994533      58.434530\n",
      "           lane_id  queueing_length  queueing_time\n",
      "2       주도로(선릉역방면)       254.631705      50.968512\n",
      "3       주도로(역삼역방면)       288.097137      50.878275\n",
      "4  부도로(강남세브란스병원방면)        40.302666      34.334748\n",
      "5      부도로(봉은사로방면)       178.013833      41.482521\n"
     ]
    }
   ],
   "source": [
    "# df1과 df2의 0,1번 index를 가장 밑으로 보내기\n",
    "df1 = df1._append(df1.loc[[0,1]], ignore_index=True)\n",
    "df1 = df1.drop([0,1])\n",
    "df2 = df2._append(df2.loc[[0,1]], ignore_index=True)\n",
    "df2 = df2.drop([0,1])\n",
    "\n",
    "print(df1)\n",
    "print(df2)"
   ]
  },
  {
   "cell_type": "code",
   "execution_count": 14,
   "metadata": {},
   "outputs": [
    {
     "data": {
      "image/png": "[encoded data removed]",
      "text/plain": [
       "<Figure size 1400x600 with 2 Axes>"
      ]
     },
     "metadata": {},
     "output_type": "display_data"
    }
   ],
   "source": [
    "# Plotting queueing_length and queueing_time on separate bar charts\n",
    "\n",
    "# Create subplots\n",
    "fig, (ax1, ax2) = plt.subplots(1, 2, figsize=(14, 6))\n",
    "\n",
    "# Plotting queueing_length\n",
    "bar_width = 0.35  # the width of the bars\n",
    "index = df1['lane_id']\n",
    "\n",
    "r1 = range(len(index))\n",
    "r2 = [x + bar_width for x in r1]\n",
    "\n",
    "ax1.bar(r1, df1['queueing_length'], bar_width, label='기존 신호 적용 (대조군)', color='lightsalmon')\n",
    "ax1.bar(r2, df2['queueing_length'], bar_width, label='자체 신호 적용 (비교군)', alpha=0.7, color='cornflowerblue')\n",
    "\n",
    "ax1.set_xlabel('Edge')\n",
    "ax1.set_ylabel('평균 대기 행렬 길이')\n",
    "ax1.set_title('평균 대기 행렬 길이 비교')\n",
    "ax1.set_xticks([r + bar_width / 2 for r in range(len(index))])\n",
    "ax1.set_xticklabels(index, rotation=10)\n",
    "ax1.legend(loc='upper left')\n",
    "\n",
    "# Plotting queueing_time\n",
    "ax2.bar(r1, df1['queueing_time'], bar_width, label='기존 신호 적용 (대조군)', color='lightsalmon')\n",
    "ax2.bar(r2, df2['queueing_time'], bar_width, label='자체 신호 적용 (비교군)', alpha=0.7, color='cornflowerblue')\n",
    "\n",
    "ax2.set_xlabel('Edge')\n",
    "ax2.set_ylabel('평균 지체 시간')\n",
    "ax2.set_title('평균 지체 시간 비교')\n",
    "ax2.set_xticks([r + bar_width / 2 for r in range(len(index))])\n",
    "ax2.set_xticklabels(index, rotation=10)\n",
    "# legend 왼쪽으로 고정\n",
    "ax2.legend(loc='upper left')\n",
    "\n",
    "plt.tight_layout()\n",
    "plt.show()\n"
   ]
  },
  {
   "cell_type": "code",
   "execution_count": 16,
   "metadata": {},
   "outputs": [],
   "source": [
    "# temp_step_1.csv 파일 불러오기\n",
    "df3 = pd.read_csv('temp_step.csv')"
   ]
  },
  {
   "cell_type": "code",
   "execution_count": 17,
   "metadata": {},
   "outputs": [],
   "source": [
    "# df3의 평균 구하기\n",
    "df3 = df3.mean().reset_index()"
   ]
  },
  {
   "cell_type": "code",
   "execution_count": 18,
   "metadata": {},
   "outputs": [
    {
     "data": {
      "text/html": [
       "<div>\n",
       "<style scoped>\n",
       "    .dataframe tbody tr th:only-of-type {\n",
       "        vertical-align: middle;\n",
       "    }\n",
       "\n",
       "    .dataframe tbody tr th {\n",
       "        vertical-align: top;\n",
       "    }\n",
       "\n",
       "    .dataframe thead th {\n",
       "        text-align: right;\n",
       "    }\n",
       "</style>\n",
       "<table border=\"1\" class=\"dataframe\">\n",
       "  <thead>\n",
       "    <tr style=\"text-align: right;\">\n",
       "      <th></th>\n",
       "      <th>index</th>\n",
       "      <th>0</th>\n",
       "    </tr>\n",
       "  </thead>\n",
       "  <tbody>\n",
       "    <tr>\n",
       "      <th>0</th>\n",
       "      <td>step</td>\n",
       "      <td>99.039087</td>\n",
       "    </tr>\n",
       "  </tbody>\n",
       "</table>\n",
       "</div>"
      ],
      "text/plain": [
       "  index          0\n",
       "0  step  99.039087"
      ]
     },
     "execution_count": 18,
     "metadata": {},
     "output_type": "execute_result"
    }
   ],
   "source": [
    "df3"
   ]
  }
 ],
 "metadata": {
  "kernelspec": {
   "display_name": "base",
   "language": "python",
   "name": "python3"
  },
  "language_info": {
   "codemirror_mode": {
    "name": "ipython",
    "version": 3
   },
   "file_extension": ".py",
   "mimetype": "text/x-python",
   "name": "python",
   "nbconvert_exporter": "python",
   "pygments_lexer": "ipython3",
   "version": "3.12.5"
  }
 },
 "nbformat": 4,
 "nbformat_minor": 2
}
